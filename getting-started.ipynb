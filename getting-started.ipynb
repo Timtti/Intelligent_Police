{
 "cells": [
  {
   "cell_type": "markdown",
   "metadata": {},
   "source": [
    "### 2. Load dependencies\n",
    "\n",
    "The following loads the necessary dependencies and checks the Python version (at runtime). ML-Agents Toolkit (v0.3 onwards) requires Python 3."
   ]
  },
  {
   "cell_type": "code",
   "execution_count": 1,
   "metadata": {
    "pycharm": {
     "name": "#%%\n"
    }
   },
   "outputs": [
    {
     "name": "stdout",
     "output_type": "stream",
     "text": [
      "Python version:\n",
      "3.7.6 (tags/v3.7.6:43364a7ae0, Dec 19 2019, 00:42:30) [MSC v.1916 64 bit (AMD64)]\n"
     ]
    }
   ],
   "source": [
    "import matplotlib.pyplot as plt\n",
    "import numpy as np\n",
    "import sys\n",
    "\n",
    "from mlagents_envs.environment import UnityEnvironment\n",
    "from mlagents_envs.side_channel.engine_configuration_channel import EngineConfig, EngineConfigurationChannel\n",
    "\n",
    "%matplotlib inline\n",
    "\n",
    "print(\"Python version:\")\n",
    "print(sys.version)\n",
    "\n",
    "# check Python version\n",
    "if (sys.version_info[0] < 3):\n",
    "    raise Exception(\"ERROR: ML-Agents Toolkit (v0.3 onwards) requires Python 3\")"
   ]
  },
  {
   "cell_type": "markdown",
   "metadata": {},
   "source": [
    "### 3. Start the environment\n",
    "`UnityEnvironment` launches and begins communication with the environment when instantiated.\n",
    "\n",
    "Environments contain _brains_ which are responsible for deciding the actions of their associated _agents_. Here we check for the first brain available, and set it as the default brain we will be controlling from Python."
   ]
  },
  {
   "cell_type": "code",
   "execution_count": 2,
   "metadata": {},
   "outputs": [],
   "source": [
    "engine_configuration_channel = EngineConfigurationChannel()\n",
    "env_name=\"./Build/PoliceInt.exe\"\n",
    "env = UnityEnvironment(file_name=env_name, side_channels = [engine_configuration_channel])\n",
    "\n",
    "#Reset the environment\n",
    "env.reset()\n",
    "\n",
    "# Set the default brain to work with\n",
    "group_name = env.get_agent_groups()[0]\n",
    "group_spec = env.get_agent_group_spec(group_name)\n",
    "\n",
    "# Set the time scale of the engine\n",
    "engine_configuration_channel.set_configuration_parameters(time_scale = 3.0)"
   ]
  },
  {
   "cell_type": "markdown",
   "metadata": {},
   "source": [
    "### 4. Examine the observation and state spaces\n",
    "We can reset the environment to be provided with an initial set of observations and states for all the agents within the environment. In ML-Agents, _states_ refer to a vector of variables corresponding to relevant aspects of the environment for an agent. Likewise, _observations_ refer to a set of relevant pixel-wise visuals for an agent."
   ]
  },
  {
   "cell_type": "code",
   "execution_count": 3,
   "metadata": {},
   "outputs": [
    {
     "name": "stdout",
     "output_type": "stream",
     "text": [
      "Number of observations :  3\n",
      "Is there a visual observation ? True\n",
      "Agent visual observation looks like:\n"
     ]
    },
    {
     "data": {
      "image/png": "[encoded data removed]",
      "text/plain": [
       "<Figure size 432x288 with 1 Axes>"
      ]
     },
     "metadata": {
      "needs_background": "light"
     },
     "output_type": "display_data"
    }
   ],
   "source": [
    "# Get the state of the agents\n",
    "step_result = env.get_step_result(group_name)\n",
    "\n",
    "# Examine the number of observations per Agent\n",
    "print(\"Number of observations : \", len(group_spec.observation_shapes))\n",
    "\n",
    "# Is there a visual observation ?\n",
    "vis_obs = any([len(shape) == 3 for shape in group_spec.observation_shapes])\n",
    "print(\"Is there a visual observation ?\", vis_obs)\n",
    "\n",
    "# Examine the visual observations\n",
    "if vis_obs:\n",
    "    vis_obs_index = next(i for i,v in enumerate(group_spec.observation_shapes) if len(v) == 3)\n",
    "    print(\"Agent visual observation looks like:\")\n",
    "    obs = step_result.obs[vis_obs_index]\n",
    "    plt.imshow(obs[0,:,:,:])\n",
    "else:\n",
    "    # Examine the state space for the first observation for the first agent\n",
    "    print(\"First Agent observation looks like: \\n{}\".format(step_result.obs[0][0]))"
   ]
  },
  {
   "cell_type": "markdown",
   "metadata": {},
   "source": [
    "### 5. Take random actions in the environment\n",
    "Once we restart an environment, we can step the environment forward and provide actions to all of the agents within the environment. Here we simply choose random actions based on the `action_space_type` of the default brain.\n",
    "\n",
    "Once this cell is executed, 10 messages will be printed that detail how much reward will be accumulated for the next 10 episodes. The Unity environment will then pause, waiting for further signals telling it what to do next. Thus, not seeing any animation is expected when running this cell."
   ]
  },
  {
   "cell_type": "code",
   "execution_count": 4,
   "metadata": {},
   "outputs": [
    {
     "name": "stdout",
     "output_type": "stream",
     "text": [
      "Total reward this episode: -10.379999697208405 Episode 0\n",
      "Total reward this episode: -10.939999863505363 Episode 1\n",
      "Total reward this episode: -15.509999826550484 Episode 2\n",
      "Total reward this episode: -10.939999863505363 Episode 3\n",
      "Total reward this episode: -13.320000097155571 Episode 4\n",
      "Total reward this episode: -2.799999602138996 Episode 5\n",
      "Total reward this episode: -10.360000193119049 Episode 6\n",
      "Total reward this episode: 0.07000012695789337 Episode 7\n",
      "Total reward this episode: -11.670000277459621 Episode 8\n",
      "Total reward this episode: -11.670000277459621 Episode 9\n",
      "Total reward this episode: 0.9900000095367432 Episode 10\n",
      "Total reward this episode: -2.249999664723873 Episode 11\n",
      "Total reward this episode: -10.45000034570694 Episode 12\n",
      "Total reward this episode: -10.45000034570694 Episode 13\n",
      "Total reward this episode: -10.939999863505363 Episode 14\n",
      "Total reward this episode: -2.0499996840953827 Episode 15\n",
      "Total reward this episode: -11.179999805986881 Episode 16\n",
      "Total reward this episode: 0.050000086426734924 Episode 17\n",
      "Total reward this episode: -7.039999149739742 Episode 18\n",
      "Total reward this episode: -10.939999863505363 Episode 19\n",
      "Total reward this episode: -10.47999968379736 Episode 20\n",
      "Total reward this episode: -11.650000214576721 Episode 21\n",
      "Total reward this episode: -11.849999994039536 Episode 22\n",
      "Total reward this episode: -11.8399997651577 Episode 23\n",
      "Total reward this episode: -14.539999470114708 Episode 24\n",
      "Total reward this episode: -2.1999996677041054 Episode 25\n",
      "Total reward this episode: -1.3199997320771217 Episode 26\n",
      "Total reward this episode: -10.939999863505363 Episode 27\n",
      "Total reward this episode: -10.939999863505363 Episode 28\n",
      "Total reward this episode: -2.0499996840953827 Episode 29\n",
      "Total reward this episode: -12.420000195503235 Episode 30\n",
      "Total reward this episode: -11.479999773204327 Episode 31\n",
      "Total reward this episode: -20.569999307394028 Episode 32\n",
      "Total reward this episode: -10.370000422000885 Episode 33\n",
      "Total reward this episode: 0.1100001111626625 Episode 34\n",
      "Total reward this episode: -11.789999969303608 Episode 35\n",
      "Total reward this episode: -13.889999739825726 Episode 36\n",
      "Total reward this episode: -10.45000034570694 Episode 37\n",
      "Total reward this episode: -14.619999200105667 Episode 38\n",
      "Total reward this episode: -10.939999863505363 Episode 39\n",
      "Total reward this episode: -14.059999786317348 Episode 40\n",
      "Total reward this episode: -10.939999863505363 Episode 41\n",
      "Total reward this episode: -13.129999592900276 Episode 42\n",
      "Total reward this episode: -0.7499998286366463 Episode 43\n",
      "Total reward this episode: -10.45000034570694 Episode 44\n",
      "Total reward this episode: -10.45000034570694 Episode 45\n",
      "Total reward this episode: -15.52999933063984 Episode 46\n",
      "Total reward this episode: -10.939999863505363 Episode 47\n",
      "Total reward this episode: -10.939999863505363 Episode 48\n",
      "Total reward this episode: -10.939999863505363 Episode 49\n",
      "Total reward this episode: -15.279999159276485 Episode 50\n",
      "Total reward this episode: -10.47999968379736 Episode 51\n",
      "Total reward this episode: -11.670000277459621 Episode 52\n",
      "Total reward this episode: -12.539999887347221 Episode 53\n",
      "Total reward this episode: 0.06000007688999176 Episode 54\n",
      "Total reward this episode: -11.670000277459621 Episode 55\n",
      "Total reward this episode: -11.670000277459621 Episode 56\n",
      "Total reward this episode: -13.869999282062054 Episode 57\n",
      "Total reward this episode: -15.269999884068966 Episode 58\n",
      "Total reward this episode: -13.860000006854534 Episode 59\n",
      "Total reward this episode: -11.810000032186508 Episode 60\n",
      "Total reward this episode: 0.8099999949336052 Episode 61\n",
      "Total reward this episode: -10.45000034570694 Episode 62\n",
      "Total reward this episode: -10.45000034570694 Episode 63\n",
      "Total reward this episode: -15.289999388158321 Episode 64\n",
      "Total reward this episode: -10.939999863505363 Episode 65\n",
      "Total reward this episode: -15.359999842941761 Episode 66\n",
      "Total reward this episode: -12.389999903738499 Episode 67\n",
      "Total reward this episode: -10.929999634623528 Episode 68\n",
      "Total reward this episode: -18.239999264478683 Episode 69\n",
      "Total reward this episode: -10.939999863505363 Episode 70\n",
      "Total reward this episode: -2.0999996811151505 Episode 71\n",
      "Total reward this episode: -13.87999951094389 Episode 72\n",
      "Total reward this episode: 0.5600000470876694 Episode 73\n",
      "Total reward this episode: 0.13000009208917618 Episode 74\n",
      "Total reward this episode: -10.370000422000885 Episode 75\n",
      "Total reward this episode: 0.07000012695789337 Episode 76\n",
      "Total reward this episode: -11.970000244677067 Episode 77\n",
      "Total reward this episode: -10.939999863505363 Episode 78\n",
      "Total reward this episode: -11.650000214576721 Episode 79\n",
      "Total reward this episode: -12.409999966621399 Episode 80\n",
      "Total reward this episode: -10.939999863505363 Episode 81\n",
      "Total reward this episode: -2.0499996840953827 Episode 82\n",
      "Total reward this episode: -14.609999924898148 Episode 83\n",
      "Total reward this episode: -10.939999863505363 Episode 84\n",
      "Total reward this episode: -15.479999139904976 Episode 85\n",
      "Total reward this episode: -10.939999863505363 Episode 86\n",
      "Total reward this episode: -10.939999863505363 Episode 87\n",
      "Total reward this episode: -10.939999863505363 Episode 88\n",
      "Total reward this episode: -13.129999592900276 Episode 89\n",
      "Total reward this episode: -11.820000261068344 Episode 90\n",
      "Total reward this episode: -10.939999863505363 Episode 91\n",
      "Total reward this episode: -12.420000195503235 Episode 92\n",
      "Total reward this episode: -10.939999863505363 Episode 93\n",
      "Total reward this episode: -13.87999951094389 Episode 94\n",
      "Total reward this episode: -10.939999863505363 Episode 95\n",
      "Total reward this episode: -10.360000193119049 Episode 96\n",
      "Total reward this episode: -11.670000277459621 Episode 97\n",
      "Total reward this episode: -12.669999413192272 Episode 98\n",
      "Total reward this episode: 0.8300000354647636 Episode 99\n",
      "Total reward this episode: -10.379999697208405 Episode 100\n",
      "Total reward this episode: -12.420000195503235 Episode 101\n",
      "Total reward this episode: -11.670000277459621 Episode 102\n",
      "Total reward this episode: -11.670000277459621 Episode 103\n",
      "Total reward this episode: -10.939999863505363 Episode 104\n",
      "Total reward this episode: -14.419999979436398 Episode 105\n",
      "Total reward this episode: -12.22999969124794 Episode 106\n",
      "Total reward this episode: -11.089999847114086 Episode 107\n",
      "Total reward this episode: -16.04999953508377 Episode 108\n",
      "Total reward this episode: -11.800000198185444 Episode 109\n",
      "Total reward this episode: -10.939999863505363 Episode 110\n",
      "Total reward this episode: -11.110000111162663 Episode 111\n",
      "Total reward this episode: -15.299999617040157 Episode 112\n",
      "Total reward this episode: -13.139999821782112 Episode 113\n",
      "Total reward this episode: 0.8300000354647636 Episode 114\n",
      "Total reward this episode: -15.999999739229679 Episode 115\n",
      "Total reward this episode: -10.379999697208405 Episode 116\n",
      "Total reward this episode: -10.360000193119049 Episode 117\n",
      "Total reward this episode: -10.360000193119049 Episode 118\n",
      "Total reward this episode: -11.829999536275864 Episode 119\n",
      "Total reward this episode: -13.150000050663948 Episode 120\n",
      "Total reward this episode: -10.939999863505363 Episode 121\n",
      "Total reward this episode: -13.159999884665012 Episode 122\n",
      "Total reward this episode: -13.279999576508999 Episode 123\n",
      "Total reward this episode: -12.559999950230122 Episode 124\n",
      "Total reward this episode: -12.420000195503235 Episode 125\n",
      "Total reward this episode: 0.9900000095367432 Episode 126\n",
      "Total reward this episode: -11.019999593496323 Episode 127\n",
      "Total reward this episode: -11.660000048577785 Episode 128\n",
      "Total reward this episode: -11.800000198185444 Episode 129\n",
      "Total reward this episode: -12.420000195503235 Episode 130\n",
      "Total reward this episode: -1.1399997919797897 Episode 131\n",
      "Total reward this episode: -10.45000034570694 Episode 132\n",
      "Total reward this episode: -10.45000034570694 Episode 133\n",
      "Total reward this episode: -21.239998936653137 Episode 134\n",
      "Total reward this episode: -10.939999863505363 Episode 135\n",
      "Total reward this episode: -11.07999961823225 Episode 136\n",
      "Total reward this episode: -11.660000048577785 Episode 137\n",
      "Total reward this episode: -11.660000048577785 Episode 138\n",
      "Total reward this episode: -5.9899992644786835 Episode 139\n",
      "Total reward this episode: -12.420000195503235 Episode 140\n",
      "Total reward this episode: -12.409999966621399 Episode 141\n"
     ]
    },
    {
     "name": "stdout",
     "output_type": "stream",
     "text": [
      "Total reward this episode: -2.16999963670969 Episode 142\n",
      "Total reward this episode: -4.239999413490295 Episode 143\n",
      "Total reward this episode: -12.400000132620335 Episode 144\n",
      "Total reward this episode: -14.059999786317348 Episode 145\n",
      "Total reward this episode: 0.8099999949336052 Episode 146\n",
      "Total reward this episode: -10.939999863505363 Episode 147\n",
      "Total reward this episode: -10.370000422000885 Episode 148\n",
      "Total reward this episode: -13.929999306797981 Episode 149\n",
      "Total reward this episode: -11.479999773204327 Episode 150\n",
      "Total reward this episode: -14.639999657869339 Episode 151\n",
      "Total reward this episode: -10.939999863505363 Episode 152\n",
      "Total reward this episode: -8.399998992681503 Episode 153\n",
      "Total reward this episode: 0.12000010162591934 Episode 154\n",
      "Total reward this episode: -2.349999651312828 Episode 155\n",
      "Total reward this episode: -13.150000050663948 Episode 156\n",
      "Total reward this episode: -11.650000214576721 Episode 157\n",
      "Total reward this episode: -10.379999697208405 Episode 158\n",
      "Total reward this episode: -12.579999454319477 Episode 159\n",
      "Total reward this episode: -10.939999863505363 Episode 160\n",
      "Total reward this episode: 0.09000010788440704 Episode 161\n",
      "Total reward this episode: -11.970000244677067 Episode 162\n",
      "Total reward this episode: -10.939999863505363 Episode 163\n",
      "Total reward this episode: -12.939999647438526 Episode 164\n",
      "Total reward this episode: -10.47999968379736 Episode 165\n",
      "Total reward this episode: -13.150000050663948 Episode 166\n",
      "Total reward this episode: -13.139999821782112 Episode 167\n",
      "Total reward this episode: -11.179999805986881 Episode 168\n",
      "Total reward this episode: -10.939999863505363 Episode 169\n",
      "Total reward this episode: -16.759999491274357 Episode 170\n",
      "Total reward this episode: -10.939999863505363 Episode 171\n",
      "Total reward this episode: -1.3799997344613075 Episode 172\n",
      "Total reward this episode: -14.609999924898148 Episode 173\n",
      "Total reward this episode: -10.47999968379736 Episode 174\n",
      "Total reward this episode: -10.939999863505363 Episode 175\n",
      "Total reward this episode: -16.749999657273293 Episode 176\n",
      "Total reward this episode: -10.939999863505363 Episode 177\n",
      "Total reward this episode: -10.939999863505363 Episode 178\n",
      "Total reward this episode: -2.3699996173381805 Episode 179\n",
      "Total reward this episode: -11.179999805986881 Episode 180\n",
      "Total reward this episode: -0.7099998071789742 Episode 181\n",
      "Total reward this episode: -10.45000034570694 Episode 182\n",
      "Total reward this episode: -10.45000034570694 Episode 183\n",
      "Total reward this episode: -16.769999720156193 Episode 184\n",
      "Total reward this episode: -12.51999942958355 Episode 185\n",
      "Total reward this episode: -21.869999162852764 Episode 186\n",
      "Total reward this episode: -12.420000195503235 Episode 187\n",
      "Total reward this episode: -13.32999937236309 Episode 188\n",
      "Total reward this episode: -13.869999282062054 Episode 189\n",
      "Total reward this episode: -12.939999647438526 Episode 190\n",
      "Total reward this episode: -11.179999805986881 Episode 191\n",
      "Total reward this episode: -14.619999200105667 Episode 192\n",
      "Total reward this episode: -11.169999577105045 Episode 193\n",
      "Total reward this episode: -13.32999937236309 Episode 194\n",
      "Total reward this episode: -12.559999950230122 Episode 195\n",
      "Total reward this episode: -10.379999697208405 Episode 196\n",
      "Total reward this episode: -10.360000193119049 Episode 197\n",
      "Total reward this episode: -11.670000277459621 Episode 198\n"
     ]
    },
    {
     "ename": "UnityTimeOutException",
     "evalue": "The Unity environment took too long to respond. Make sure that :\n\t The environment does not need user interaction to launch\n\t The Agents are linked to the appropriate Brains\n\t The environment and the Python interface have compatible versions.",
     "output_type": "error",
     "traceback": [
      "\u001b[1;31m---------------------------------------------------------------------------\u001b[0m",
      "\u001b[1;31mUnityTimeOutException\u001b[0m                     Traceback (most recent call last)",
      "\u001b[1;32m<ipython-input-4-9bb1241fcbda>\u001b[0m in \u001b[0;36m<module>\u001b[1;34m\u001b[0m\n\u001b[0;32m     13\u001b[0m             \u001b[0maction\u001b[0m \u001b[1;33m=\u001b[0m \u001b[0mnp\u001b[0m\u001b[1;33m.\u001b[0m\u001b[0mcolumn_stack\u001b[0m\u001b[1;33m(\u001b[0m\u001b[1;33m[\u001b[0m\u001b[0mnp\u001b[0m\u001b[1;33m.\u001b[0m\u001b[0mrandom\u001b[0m\u001b[1;33m.\u001b[0m\u001b[0mrandint\u001b[0m\u001b[1;33m(\u001b[0m\u001b[1;36m0\u001b[0m\u001b[1;33m,\u001b[0m \u001b[0mbranch_size\u001b[0m\u001b[1;33m[\u001b[0m\u001b[0mi\u001b[0m\u001b[1;33m]\u001b[0m\u001b[1;33m,\u001b[0m \u001b[0msize\u001b[0m\u001b[1;33m=\u001b[0m\u001b[1;33m(\u001b[0m\u001b[0mstep_result\u001b[0m\u001b[1;33m.\u001b[0m\u001b[0mn_agents\u001b[0m\u001b[1;33m(\u001b[0m\u001b[1;33m)\u001b[0m\u001b[1;33m)\u001b[0m\u001b[1;33m)\u001b[0m \u001b[1;32mfor\u001b[0m \u001b[0mi\u001b[0m \u001b[1;32min\u001b[0m \u001b[0mrange\u001b[0m\u001b[1;33m(\u001b[0m\u001b[0mlen\u001b[0m\u001b[1;33m(\u001b[0m\u001b[0mbranch_size\u001b[0m\u001b[1;33m)\u001b[0m\u001b[1;33m)\u001b[0m\u001b[1;33m]\u001b[0m\u001b[1;33m)\u001b[0m\u001b[1;33m\u001b[0m\u001b[1;33m\u001b[0m\u001b[0m\n\u001b[0;32m     14\u001b[0m         \u001b[0menv\u001b[0m\u001b[1;33m.\u001b[0m\u001b[0mset_actions\u001b[0m\u001b[1;33m(\u001b[0m\u001b[0mgroup_name\u001b[0m\u001b[1;33m,\u001b[0m \u001b[0maction\u001b[0m\u001b[1;33m)\u001b[0m\u001b[1;33m\u001b[0m\u001b[1;33m\u001b[0m\u001b[0m\n\u001b[1;32m---> 15\u001b[1;33m         \u001b[0menv\u001b[0m\u001b[1;33m.\u001b[0m\u001b[0mstep\u001b[0m\u001b[1;33m(\u001b[0m\u001b[1;33m)\u001b[0m\u001b[1;33m\u001b[0m\u001b[1;33m\u001b[0m\u001b[0m\n\u001b[0m\u001b[0;32m     16\u001b[0m         \u001b[0mstep_result\u001b[0m \u001b[1;33m=\u001b[0m \u001b[0menv\u001b[0m\u001b[1;33m.\u001b[0m\u001b[0mget_step_result\u001b[0m\u001b[1;33m(\u001b[0m\u001b[0mgroup_name\u001b[0m\u001b[1;33m)\u001b[0m\u001b[1;33m\u001b[0m\u001b[1;33m\u001b[0m\u001b[0m\n\u001b[0;32m     17\u001b[0m         \u001b[0mepisode_rewards\u001b[0m \u001b[1;33m+=\u001b[0m \u001b[0mstep_result\u001b[0m\u001b[1;33m.\u001b[0m\u001b[0mreward\u001b[0m\u001b[1;33m[\u001b[0m\u001b[1;36m0\u001b[0m\u001b[1;33m]\u001b[0m\u001b[1;33m\u001b[0m\u001b[1;33m\u001b[0m\u001b[0m\n",
      "\u001b[1;32mc:\\users\\tmood\\appdata\\local\\programs\\python\\python37\\lib\\site-packages\\mlagents_envs\\timers.py\u001b[0m in \u001b[0;36mwrapped\u001b[1;34m(*args, **kwargs)\u001b[0m\n\u001b[0;32m    256\u001b[0m     \u001b[1;32mdef\u001b[0m \u001b[0mwrapped\u001b[0m\u001b[1;33m(\u001b[0m\u001b[1;33m*\u001b[0m\u001b[0margs\u001b[0m\u001b[1;33m,\u001b[0m \u001b[1;33m**\u001b[0m\u001b[0mkwargs\u001b[0m\u001b[1;33m)\u001b[0m\u001b[1;33m:\u001b[0m\u001b[1;33m\u001b[0m\u001b[1;33m\u001b[0m\u001b[0m\n\u001b[0;32m    257\u001b[0m         \u001b[1;32mwith\u001b[0m \u001b[0mhierarchical_timer\u001b[0m\u001b[1;33m(\u001b[0m\u001b[0mfunc\u001b[0m\u001b[1;33m.\u001b[0m\u001b[0m__qualname__\u001b[0m\u001b[1;33m)\u001b[0m\u001b[1;33m:\u001b[0m\u001b[1;33m\u001b[0m\u001b[1;33m\u001b[0m\u001b[0m\n\u001b[1;32m--> 258\u001b[1;33m             \u001b[1;32mreturn\u001b[0m \u001b[0mfunc\u001b[0m\u001b[1;33m(\u001b[0m\u001b[1;33m*\u001b[0m\u001b[0margs\u001b[0m\u001b[1;33m,\u001b[0m \u001b[1;33m**\u001b[0m\u001b[0mkwargs\u001b[0m\u001b[1;33m)\u001b[0m\u001b[1;33m\u001b[0m\u001b[1;33m\u001b[0m\u001b[0m\n\u001b[0m\u001b[0;32m    259\u001b[0m \u001b[1;33m\u001b[0m\u001b[0m\n\u001b[0;32m    260\u001b[0m     \u001b[1;32mreturn\u001b[0m \u001b[0mwrapped\u001b[0m  \u001b[1;31m# type: ignore\u001b[0m\u001b[1;33m\u001b[0m\u001b[1;33m\u001b[0m\u001b[0m\n",
      "\u001b[1;32mc:\\users\\tmood\\appdata\\local\\programs\\python\\python37\\lib\\site-packages\\mlagents_envs\\environment.py\u001b[0m in \u001b[0;36mstep\u001b[1;34m(self)\u001b[0m\n\u001b[0;32m    351\u001b[0m         \u001b[0mstep_input\u001b[0m \u001b[1;33m=\u001b[0m \u001b[0mself\u001b[0m\u001b[1;33m.\u001b[0m\u001b[0m_generate_step_input\u001b[0m\u001b[1;33m(\u001b[0m\u001b[0mself\u001b[0m\u001b[1;33m.\u001b[0m\u001b[0m_env_actions\u001b[0m\u001b[1;33m)\u001b[0m\u001b[1;33m\u001b[0m\u001b[1;33m\u001b[0m\u001b[0m\n\u001b[0;32m    352\u001b[0m         \u001b[1;32mwith\u001b[0m \u001b[0mhierarchical_timer\u001b[0m\u001b[1;33m(\u001b[0m\u001b[1;34m\"communicator.exchange\"\u001b[0m\u001b[1;33m)\u001b[0m\u001b[1;33m:\u001b[0m\u001b[1;33m\u001b[0m\u001b[1;33m\u001b[0m\u001b[0m\n\u001b[1;32m--> 353\u001b[1;33m             \u001b[0moutputs\u001b[0m \u001b[1;33m=\u001b[0m \u001b[0mself\u001b[0m\u001b[1;33m.\u001b[0m\u001b[0mcommunicator\u001b[0m\u001b[1;33m.\u001b[0m\u001b[0mexchange\u001b[0m\u001b[1;33m(\u001b[0m\u001b[0mstep_input\u001b[0m\u001b[1;33m)\u001b[0m\u001b[1;33m\u001b[0m\u001b[1;33m\u001b[0m\u001b[0m\n\u001b[0m\u001b[0;32m    354\u001b[0m         \u001b[1;32mif\u001b[0m \u001b[0moutputs\u001b[0m \u001b[1;32mis\u001b[0m \u001b[1;32mNone\u001b[0m\u001b[1;33m:\u001b[0m\u001b[1;33m\u001b[0m\u001b[1;33m\u001b[0m\u001b[0m\n\u001b[0;32m    355\u001b[0m             \u001b[1;32mraise\u001b[0m \u001b[0mUnityCommunicationException\u001b[0m\u001b[1;33m(\u001b[0m\u001b[1;34m\"Communicator has stopped.\"\u001b[0m\u001b[1;33m)\u001b[0m\u001b[1;33m\u001b[0m\u001b[1;33m\u001b[0m\u001b[0m\n",
      "\u001b[1;32mc:\\users\\tmood\\appdata\\local\\programs\\python\\python37\\lib\\site-packages\\mlagents_envs\\rpc_communicator.py\u001b[0m in \u001b[0;36mexchange\u001b[1;34m(self, inputs)\u001b[0m\n\u001b[0;32m    110\u001b[0m         \u001b[0mmessage\u001b[0m\u001b[1;33m.\u001b[0m\u001b[0munity_input\u001b[0m\u001b[1;33m.\u001b[0m\u001b[0mCopyFrom\u001b[0m\u001b[1;33m(\u001b[0m\u001b[0minputs\u001b[0m\u001b[1;33m)\u001b[0m\u001b[1;33m\u001b[0m\u001b[1;33m\u001b[0m\u001b[0m\n\u001b[0;32m    111\u001b[0m         \u001b[0mself\u001b[0m\u001b[1;33m.\u001b[0m\u001b[0munity_to_external\u001b[0m\u001b[1;33m.\u001b[0m\u001b[0mparent_conn\u001b[0m\u001b[1;33m.\u001b[0m\u001b[0msend\u001b[0m\u001b[1;33m(\u001b[0m\u001b[0mmessage\u001b[0m\u001b[1;33m)\u001b[0m\u001b[1;33m\u001b[0m\u001b[1;33m\u001b[0m\u001b[0m\n\u001b[1;32m--> 112\u001b[1;33m         \u001b[0mself\u001b[0m\u001b[1;33m.\u001b[0m\u001b[0mpoll_for_timeout\u001b[0m\u001b[1;33m(\u001b[0m\u001b[1;33m)\u001b[0m\u001b[1;33m\u001b[0m\u001b[1;33m\u001b[0m\u001b[0m\n\u001b[0m\u001b[0;32m    113\u001b[0m         \u001b[0moutput\u001b[0m \u001b[1;33m=\u001b[0m \u001b[0mself\u001b[0m\u001b[1;33m.\u001b[0m\u001b[0munity_to_external\u001b[0m\u001b[1;33m.\u001b[0m\u001b[0mparent_conn\u001b[0m\u001b[1;33m.\u001b[0m\u001b[0mrecv\u001b[0m\u001b[1;33m(\u001b[0m\u001b[1;33m)\u001b[0m\u001b[1;33m\u001b[0m\u001b[1;33m\u001b[0m\u001b[0m\n\u001b[0;32m    114\u001b[0m         \u001b[1;32mif\u001b[0m \u001b[0moutput\u001b[0m\u001b[1;33m.\u001b[0m\u001b[0mheader\u001b[0m\u001b[1;33m.\u001b[0m\u001b[0mstatus\u001b[0m \u001b[1;33m!=\u001b[0m \u001b[1;36m200\u001b[0m\u001b[1;33m:\u001b[0m\u001b[1;33m\u001b[0m\u001b[1;33m\u001b[0m\u001b[0m\n",
      "\u001b[1;32mc:\\users\\tmood\\appdata\\local\\programs\\python\\python37\\lib\\site-packages\\mlagents_envs\\rpc_communicator.py\u001b[0m in \u001b[0;36mpoll_for_timeout\u001b[1;34m(self)\u001b[0m\n\u001b[0;32m     89\u001b[0m         \u001b[1;32mif\u001b[0m \u001b[1;32mnot\u001b[0m \u001b[0mself\u001b[0m\u001b[1;33m.\u001b[0m\u001b[0munity_to_external\u001b[0m\u001b[1;33m.\u001b[0m\u001b[0mparent_conn\u001b[0m\u001b[1;33m.\u001b[0m\u001b[0mpoll\u001b[0m\u001b[1;33m(\u001b[0m\u001b[0mself\u001b[0m\u001b[1;33m.\u001b[0m\u001b[0mtimeout_wait\u001b[0m\u001b[1;33m)\u001b[0m\u001b[1;33m:\u001b[0m\u001b[1;33m\u001b[0m\u001b[1;33m\u001b[0m\u001b[0m\n\u001b[0;32m     90\u001b[0m             raise UnityTimeOutException(\n\u001b[1;32m---> 91\u001b[1;33m                 \u001b[1;34m\"The Unity environment took too long to respond. Make sure that :\\n\"\u001b[0m\u001b[1;33m\u001b[0m\u001b[1;33m\u001b[0m\u001b[0m\n\u001b[0m\u001b[0;32m     92\u001b[0m                 \u001b[1;34m\"\\t The environment does not need user interaction to launch\\n\"\u001b[0m\u001b[1;33m\u001b[0m\u001b[1;33m\u001b[0m\u001b[0m\n\u001b[0;32m     93\u001b[0m                 \u001b[1;34m\"\\t The Agents are linked to the appropriate Brains\\n\"\u001b[0m\u001b[1;33m\u001b[0m\u001b[1;33m\u001b[0m\u001b[0m\n",
      "\u001b[1;31mUnityTimeOutException\u001b[0m: The Unity environment took too long to respond. Make sure that :\n\t The environment does not need user interaction to launch\n\t The Agents are linked to the appropriate Brains\n\t The environment and the Python interface have compatible versions."
     ]
    }
   ],
   "source": [
    "for episode in range(1000000):\n",
    "    env.reset()\n",
    "    step_result = env.get_step_result(group_name)\n",
    "    done = False\n",
    "    episode_rewards = 0\n",
    "    while not done:\n",
    "        action_size = group_spec.action_size\n",
    "        if group_spec.is_action_continuous():\n",
    "            action = np.random.randn(step_result.n_agents(), group_spec.action_size)\n",
    "            \n",
    "        if group_spec.is_action_discrete():\n",
    "            branch_size = group_spec.discrete_action_branches\n",
    "            action = np.column_stack([np.random.randint(0, branch_size[i], size=(step_result.n_agents())) for i in range(len(branch_size))])\n",
    "        env.set_actions(group_name, action)\n",
    "        env.step()\n",
    "        step_result = env.get_step_result(group_name)\n",
    "        episode_rewards += step_result.reward[0]\n",
    "        done = step_result.done[0]\n",
    "    print(\"Total reward this episode: {}\".format(episode_rewards)+\" Episode \"+ str(episode))"
   ]
  },
  {
   "cell_type": "markdown",
   "metadata": {},
   "source": [
    "### 6. Close the environment when finished\n",
    "When we are finished using an environment, we can close it with the function below."
   ]
  },
  {
   "cell_type": "code",
   "execution_count": null,
   "metadata": {},
   "outputs": [],
   "source": [
    "env.close()\n"
   ]
  }
 ],
 "metadata": {
  "anaconda-cloud": {},
  "kernelspec": {
   "display_name": "Python 3",
   "language": "python",
   "name": "python3"
  },
  "language_info": {
   "codemirror_mode": {
    "name": "ipython",
    "version": 3
   },
   "file_extension": ".py",
   "mimetype": "text/x-python",
   "name": "python",
   "nbconvert_exporter": "python",
   "pygments_lexer": "ipython3",
   "version": "3.7.6"
  },
  "pycharm": {
   "stem_cell": {
    "cell_type": "raw",
    "metadata": {
     "collapsed": false
    },
    "source": [
     "\n",
     "#%env_name = \"PoliceInt.exe\"  # Name of the Unity environment binary to launch\n"
    ]
   }
  }
 },
 "nbformat": 4,
 "nbformat_minor": 1
}
